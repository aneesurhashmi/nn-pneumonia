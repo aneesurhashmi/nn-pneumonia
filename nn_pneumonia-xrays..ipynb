{
  "nbformat": 4,
  "nbformat_minor": 0,
  "metadata": {
    "colab": {
      "name": "Copy of new.ipynb",
      "provenance": [],
      "collapsed_sections": []
    },
    "kernelspec": {
      "display_name": "Python 3",
      "name": "python3"
    },
    "language_info": {
      "name": "python"
    }
  },
  "cells": [
    {
      "cell_type": "code",
      "metadata": {
        "id": "EbfqR11WYtQA"
      },
      "source": [
        "import tensorflow as tf\n",
        "import matplotlib.pyplot as plt\n",
        "import os \n",
        "import numpy as np\n",
        "import cv2\n",
        "# for data augmentation \n",
        "from tensorflow.keras.preprocessing.image import ImageDataGenerator"
      ],
      "execution_count": null,
      "outputs": []
    },
    {
      "cell_type": "code",
      "metadata": {
        "colab": {
          "base_uri": "https://localhost:8080/"
        },
        "id": "5MS9DSIrY4tx",
        "outputId": "d3ede718-0e4d-4584-c786-261b3a8347c2"
      },
      "source": [
        "# Mount google drive\n",
        "from google.colab import drive\n",
        "drive.mount('/content/drive')"
      ],
      "execution_count": null,
      "outputs": [
        {
          "output_type": "stream",
          "text": [
            "Mounted at /content/drive\n"
          ],
          "name": "stdout"
        }
      ]
    },
    {
      "cell_type": "code",
      "metadata": {
        "id": "dr0J6L4eYv3j"
      },
      "source": [
        "# train_dir = 'data/train'\n",
        "# val_dir = 'data/test'"
      ],
      "execution_count": null,
      "outputs": []
    },
    {
      "cell_type": "code",
      "metadata": {
        "id": "J12_lCcuY8qo"
      },
      "source": [
        "PARENT_DIR = \"content/drive/MyDrive/ChestXRays\"\n",
        "\n",
        "train_dir = PARENT_DIR + \"/train\"\n",
        "val_dir = PARENT_DIR + \"/validate\"\n",
        "test_dir = PARENT_DIR + \"/test\"\n",
        "\n",
        "CATEGORIES = [\"NORMAL\", \"PNEUMONIA\"]\n",
        "IMG_SIZE_X = 400\n",
        "IMG_SIZE_Y = 400"
      ],
      "execution_count": null,
      "outputs": []
    },
    {
      "cell_type": "code",
      "metadata": {
        "id": "luRWQfvNZfzg"
      },
      "source": [
        "def show_img(image):\n",
        "    plt.imshow(image, cmap = plt.cm.gray)\n",
        "    print(\"size: \", image.shape)"
      ],
      "execution_count": null,
      "outputs": []
    },
    {
      "cell_type": "code",
      "metadata": {
        "colab": {
          "base_uri": "https://localhost:8080/"
        },
        "id": "RKsPRIYhYOkx",
        "outputId": "f895955b-2528-4c1a-f48a-e9b64afb5f07"
      },
      "source": [
        "train_datagen = ImageDataGenerator(rescale=1./255) # 0 - 255 to 0 - 1\n",
        "val_datagen = ImageDataGenerator(rescale=1./255)\n",
        "\n",
        "train_generator = train_datagen.flow_from_directory(\n",
        "        train_dir,\n",
        "        target_size=(IMG_SIZE_X,IMG_SIZE_Y), # image size\n",
        "        batch_size=64,\n",
        "        color_mode=\"grayscale\", \n",
        "        class_mode='categorical' # type of label array return\n",
        ")\n",
        "\n",
        "validation_generator = val_datagen.flow_from_directory(\n",
        "        val_dir,\n",
        "        target_size=(IMG_SIZE_X,IMG_SIZE_Y),\n",
        "        batch_size=64,\n",
        "        color_mode=\"grayscale\",\n",
        "        class_mode='categorical')\n",
        "\n",
        "testing_generator = val_datagen.flow_from_directory(\n",
        "        test_dir,\n",
        "        target_size=(IMG_SIZE_X,IMG_SIZE_Y),\n",
        "        batch_size=64,\n",
        "        color_mode=\"grayscale\",\n",
        "        class_mode='categorical')"
      ],
      "execution_count": null,
      "outputs": [
        {
          "output_type": "stream",
          "text": [
            "Found 5232 images belonging to 2 classes.\n",
            "Found 347 images belonging to 2 classes.\n",
            "Found 277 images belonging to 2 classes.\n"
          ],
          "name": "stdout"
        }
      ]
    },
    {
      "cell_type": "code",
      "metadata": {
        "id": "S2Hb5MOlbgP9"
      },
      "source": [
        "# can be due to less no of neurons\n",
        "# regularization (L1, L2)\n",
        "# other arch \n",
        "  # resnet\n",
        "  # mass rcnn\n",
        "  # rcnn\n",
        "\n",
        "model = tf.keras.models.Sequential([\n",
        "        tf.keras.layers.Conv2D(filters=32,kernel_size=(4,4), activation = \"relu\", input_shape=(IMG_SIZE_X,IMG_SIZE_Y,1)) ,\n",
        "        tf.keras.layers.MaxPooling2D(pool_size = (2,2)), # reduce spatial resolution\n",
        "\n",
        "        tf.keras.layers.Conv2D(filters=64,kernel_size=(4,4), activation = \"relu\") ,\n",
        "        tf.keras.layers.MaxPooling2D(pool_size=(2,2)), \n",
        "\n",
        "        tf.keras.layers.Flatten(), # size will be selected aumatically\n",
        "        tf.keras.layers.Dense(64, activation = \"relu\"),\n",
        "\n",
        "        # softmax gives prob dist sum = 1 and typically used for multivariate classification\n",
        "        tf.keras.layers.Dense(2, activation = \"softmax\"), # classifying two categories only\n",
        "])\n",
        "\n",
        "model.compile(\n",
        "    optimizer=\"adam\",\n",
        "#               optimizer='SGD',\n",
        "#               optimizer='rmsprop',\n",
        "    loss = \"categorical_crossentropy\",\n",
        "    metrics = [\"accuracy\"]\n",
        ")"
      ],
      "execution_count": null,
      "outputs": []
    },
    {
      "cell_type": "code",
      "metadata": {
        "colab": {
          "base_uri": "https://localhost:8080/"
        },
        "id": "yEy9Ds_oa9zO",
        "outputId": "9f569ae5-b782-4fa4-9c4a-10c3db2355f5"
      },
      "source": [
        "# x = train_generator.next()\n",
        "model.load_weights(PARENT_DIR + \"/model.h5\")\n",
        "model.summary()\n"
      ],
      "execution_count": null,
      "outputs": [
        {
          "output_type": "stream",
          "text": [
            "Model: \"sequential\"\n",
            "_________________________________________________________________\n",
            "Layer (type)                 Output Shape              Param #   \n",
            "=================================================================\n",
            "conv2d (Conv2D)              (None, 397, 397, 32)      544       \n",
            "_________________________________________________________________\n",
            "max_pooling2d (MaxPooling2D) (None, 198, 198, 32)      0         \n",
            "_________________________________________________________________\n",
            "conv2d_1 (Conv2D)            (None, 195, 195, 64)      32832     \n",
            "_________________________________________________________________\n",
            "max_pooling2d_1 (MaxPooling2 (None, 97, 97, 64)        0         \n",
            "_________________________________________________________________\n",
            "flatten (Flatten)            (None, 602176)            0         \n",
            "_________________________________________________________________\n",
            "dense (Dense)                (None, 64)                38539328  \n",
            "_________________________________________________________________\n",
            "dense_1 (Dense)              (None, 2)                 130       \n",
            "=================================================================\n",
            "Total params: 38,572,834\n",
            "Trainable params: 38,572,834\n",
            "Non-trainable params: 0\n",
            "_________________________________________________________________\n"
          ],
          "name": "stdout"
        }
      ]
    },
    {
      "cell_type": "code",
      "metadata": {
        "colab": {
          "base_uri": "https://localhost:8080/"
        },
        "id": "VdHYH9DXZ0L0",
        "outputId": "f7607aa5-4a39-4eaa-8932-8ffd044aed53"
      },
      "source": [
        "# model.fit(X,y, epochs = 1)\n",
        "\n",
        "model.fit(\n",
        "        train_generator,\n",
        "        steps_per_epoch=5232  // 64, # 28709 training images\n",
        "        epochs=1,\n",
        "        validation_data=validation_generator,\n",
        "        validation_steps=624 // 64\n",
        "        )\n",
        "\n",
        "model.save_weights('/content/drive/MyDrive/ChestXRays/model.h5')\n",
        " "
      ],
      "execution_count": null,
      "outputs": [
        {
          "output_type": "stream",
          "text": [
            "81/81 [==============================] - ETA: 0s - loss: 0.1979 - accuracy: 0.9224 WARNING:tensorflow:Your input ran out of data; interrupting training. Make sure that your dataset or generator can generate at least `steps_per_epoch * epochs` batches (in this case, 9 batches). You may need to use the repeat() function when building your dataset.\n",
            "81/81 [==============================] - 1633s 20s/step - loss: 0.1975 - accuracy: 0.9226 - val_loss: 0.2317 - val_accuracy: 0.9070\n"
          ],
          "name": "stdout"
        }
      ]
    },
    {
      "cell_type": "code",
      "metadata": {
        "id": "GIio6cDvQJTH",
        "colab": {
          "base_uri": "https://localhost:8080/"
        },
        "outputId": "68f3e936-fbf4-49d1-f6ca-59c03fd9c1a8"
      },
      "source": [
        "# model.fit(X,y, epochs = 1)\n",
        "\n",
        "model.fit(\n",
        "        train_generator,\n",
        "        steps_per_epoch=5232  // 64, # 28709 training images\n",
        "        epochs=1,\n",
        "        validation_data=validation_generator,\n",
        "        validation_steps=624 // 64\n",
        "        )\n",
        "\n",
        "model.save_weights('/content/drive/MyDrive/ChestXRays/model.h5')"
      ],
      "execution_count": null,
      "outputs": [
        {
          "output_type": "stream",
          "text": [
            "81/81 [==============================] - ETA: 0s - loss: 0.0918 - accuracy: 0.9667 WARNING:tensorflow:Your input ran out of data; interrupting training. Make sure that your dataset or generator can generate at least `steps_per_epoch * epochs` batches (in this case, 9 batches). You may need to use the repeat() function when building your dataset.\n",
            "81/81 [==============================] - 1638s 20s/step - loss: 0.0918 - accuracy: 0.9667 - val_loss: 0.5070 - val_accuracy: 0.8106\n"
          ],
          "name": "stdout"
        }
      ]
    },
    {
      "cell_type": "code",
      "metadata": {
        "id": "1T_7ZxPMfvD6",
        "colab": {
          "base_uri": "https://localhost:8080/"
        },
        "outputId": "fceadcd6-c3b0-4cca-f917-b8e28e616e6e"
      },
      "source": [
        "model.evaluate(testing_generator)"
      ],
      "execution_count": null,
      "outputs": [
        {
          "output_type": "stream",
          "text": [
            "5/5 [==============================] - 96s 23s/step - loss: 1.4563 - accuracy: 0.6663\n"
          ],
          "name": "stdout"
        },
        {
          "output_type": "execute_result",
          "data": {
            "text/plain": [
              "[1.6449230909347534, 0.6389891505241394]"
            ]
          },
          "metadata": {
            "tags": []
          },
          "execution_count": 10
        }
      ]
    },
    {
      "cell_type": "code",
      "metadata": {
        "colab": {
          "base_uri": "https://localhost:8080/"
        },
        "id": "3-bMe0lqt52Q",
        "outputId": "aadce527-4547-42f9-806c-38e5f437ab1b"
      },
      "source": [
        "model.evaluate(validation_generator)"
      ],
      "execution_count": null,
      "outputs": [
        {
          "output_type": "stream",
          "text": [
            "6/6 [==============================] - 133s 26s/step - loss: 0.4410 - accuracy: 0.8357\n"
          ],
          "name": "stdout"
        },
        {
          "output_type": "execute_result",
          "data": {
            "text/plain": [
              "[0.44100138545036316, 0.8357348442077637]"
            ]
          },
          "metadata": {
            "tags": []
          },
          "execution_count": 12
        }
      ]
    },
    {
      "cell_type": "code",
      "metadata": {
        "id": "DAXaOXjAvcY0"
      },
      "source": [
        ""
      ],
      "execution_count": null,
      "outputs": []
    }
  ]
}